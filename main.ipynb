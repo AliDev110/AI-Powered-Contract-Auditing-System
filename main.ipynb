{
 "cells": [
  {
   "cell_type": "code",
   "execution_count": null,
   "metadata": {},
   "outputs": [],
   "source": [
    "#%pip install pytesseract"
   ]
  },
  {
   "cell_type": "markdown",
   "metadata": {},
   "source": [
    "### Imports"
   ]
  },
  {
   "cell_type": "code",
   "execution_count": 1,
   "metadata": {},
   "outputs": [],
   "source": [
    "import pytesseract\n",
    "pytesseract.pytesseract.tesseract_cmd = r'E:\\\\TesseractOCR\\\\tesseract.exe'\n",
    "from pytesseract import Output \n",
    "\n",
    "import torch\n",
    "from torch.utils.data import Dataset, DataLoader\n",
    "from PIL import Image\n",
    "from torchvision import transforms\n",
    "import cv2\n",
    "import os"
   ]
  },
  {
   "cell_type": "markdown",
   "metadata": {},
   "source": [
    "### DataLoader: \n",
    "To load train and test data"
   ]
  },
  {
   "cell_type": "code",
   "execution_count": 2,
   "metadata": {},
   "outputs": [],
   "source": [
    "class CustomOCRDataset (Dataset):\n",
    "    def __init__(self, image_paths, transform=None):\n",
    "        self.image_paths = image_paths\n",
    "\n",
    "        #Transformations done post tesseract processing\n",
    "        self.transform = transform\n",
    "    \n",
    "    def __getitem__(self, index):\n",
    "        img_path = self.image_paths[index]\n",
    "\n",
    "        #Load image as PIL and ensure RGB format\n",
    "        image = Image.open(img_path).convert('RGB')\n",
    "\n",
    "        #Add resizing and other preprocesssing as needed below\n",
    "        # -\n",
    "        # -\n",
    "        # -\n",
    "\n",
    "        return image\n",
    "    \n",
    "    def __len__(self):\n",
    "        #count of images\n",
    "        return len(self.image_paths)\n",
    "\n"
   ]
  },
  {
   "cell_type": "code",
   "execution_count": 3,
   "metadata": {},
   "outputs": [],
   "source": [
    "#Dataset Paths\n",
    "image_paths = []\n",
    "SignverOD_path = \"E:\\\\PROJECTS\\\\Personal Projects\\\\AI-Powered-Contract-Auditing-System\\\\Datasets\\\\SignverOD\\\\images\"  \n",
    "image_paths.append(SignverOD_path)   #SignverOD Dataset (Physical Signatures)\n",
    "\n",
    "#Activating dataset processing\n",
    "#dataset = CustomOCRDataset(image_path, transform=None)"
   ]
  },
  {
   "cell_type": "markdown",
   "metadata": {},
   "source": [
    "### Image Preprocessing"
   ]
  },
  {
   "cell_type": "code",
   "execution_count": null,
   "metadata": {},
   "outputs": [],
   "source": [
    "def imgToTxt(img):\n",
    "    #<--This function extracts text data from an image-->\n",
    "\n",
    "    text = pytesseract.image_to_string(img)\n",
    "    return text\n",
    "\n",
    "def getGrayScale(img):\n",
    "    #<--This function converts image into grayscale in order to make text clearer-->\n",
    "\n",
    "    return cv2.cvtColor(img, cv2.COLOR_BGR2GRAY)\n",
    "\n",
    "def removeNoise(img):\n",
    "    #<--This fucntion removes any blurr from the image--> \n",
    "\n",
    "    return cv2.medianBlur(img,5)\n",
    "\n",
    "def thresholding(img):\n",
    "    #<--This function makes the image pure black and white, making it easier for pytesseract to extract text\n",
    "\n",
    "    return cv2.threshold(img, 0, 255, cv2.THRESH_BINARY + cv2.THRESH_OTSU)[1]\n",
    "\n",
    "def resizeImg(img):\n",
    "    #<--This function resizes the image to 128 x 128-->\n",
    "\n",
    "    return cv2.resize(img, (128, 128))\n"
   ]
  },
  {
   "cell_type": "markdown",
   "metadata": {},
   "source": [
    "#### Testing"
   ]
  },
  {
   "cell_type": "code",
   "execution_count": 5,
   "metadata": {},
   "outputs": [
    {
     "name": "stdout",
     "output_type": "stream",
     "text": [
      "1\n",
      "----------------------------------------------------------------------------\n",
      "Mr. Scott Yasuda Page 2\n",
      "\n",
      "CONFIDENTIAL\n",
      "\n",
      "As you are no doubt aware, MARLBORO is the world's leading\n",
      "cigarette and one of the most famous of all American trademarks.\n",
      "Moreover, while cigarettes are our major product, substantial\n",
      "business is done in several areas and, as you are also, no doubt,\n",
      "aware, MARLBORO sponsors several race cars and racing teams\n",
      "around the world, including the world champion MARLBORO-McLaren\n",
      "\n",
      "racing tean.\n",
      "\n",
      "MARLBORO, the MARLBORO Roof Design, and the combination\n",
      "thereof are all trademarks owned by Philip Morris. In addition,\n",
      "we also own United States Registration No. 1400689 for MARLBORO\n",
      "WORLD CHAMPIONSHIP TEAM (& racing car), (& Red Roof Design),\n",
      "which covers “entertainment services, namely conducting car\n",
      "racing events.\" Similar rights are in existence in almost every\n",
      "country world-wide. Accordingly, the usage of our trademarks and\n",
      "those confusingly similar therewith infringe our trademark rights\n",
      "under federal and state laws, our common law trademark and state\n",
      "unfair competition rights, and our rights under national and\n",
      "international laws in other countries. :\n",
      "\n",
      "In the circumstances, we must demand that you cease all such\n",
      "usage and that you recall all games currently existing in the\n",
      "marketplace. It will be appreciated, that as long as these games\n",
      "remain in the marketplace, they constitute continuing\n",
      "infringements of our rights in and to the MARLBORO, MARLBORO Roof\n",
      "Device, and MARLBORO & Roof Device trademarks and tradedress.\n",
      "Moreover, this demand should be considered as one also for your\n",
      "parent company, to the extent that such games are in the\n",
      "marketplace in other countries.\n",
      "\n",
      "This is an extremely serious matter to us, and we therefore\n",
      "must have your favorable reply without delay, in the hopes that\n",
      "we can yet resolve the matter amicably, and without resort to\n",
      "\n",
      "litigation.\n",
      "\n",
      "Barry M. Krivisky\n",
      "\n",
      "BMK: imz\n",
      "\n",
      "C:11-172.LTR\n",
      "\n",
      "000002\n",
      "\n",
      "6S69099F0Z\n",
      "\n"
     ]
    }
   ],
   "source": [
    "def readImagesFromFolder(path=None):\n",
    "    #<---This function reads all image files from a specific folder-->\n",
    "    #path :- stored path to the images\n",
    "\n",
    "    images = [] #Stores all read images\n",
    "    allowed_extensions = ['.png', '.jpg', '.jpeg']  # List of allowed image extensions\n",
    "\n",
    "    #Go thorugh the specified folder and store all image files\n",
    "    try:\n",
    "        for filename in os.listdir(path):\n",
    "            path = os.path.join(path, filename)\n",
    "\n",
    "            if os.path.isfile(path):\n",
    "                try:\n",
    "                    _, extension = os.path.splitext(filename)\n",
    "                    #Allow only the valid extensions for image files\n",
    "                    if extension.lower() in allowed_extensions:\n",
    "                        img = cv2.imread(path)\n",
    "\n",
    "                        #check if its a valid image\n",
    "                        if img is not None and (img.ndim == 2 or img.ndim == 3): \n",
    "                            images.append(img)\n",
    "\n",
    "                except Exception as e:\n",
    "                    print(\"Error reading file: {filename} - {e}\")\n",
    "\n",
    "    except FileNotFoundError:\n",
    "        print(\"File not found in folder {path}\")\n",
    "    except NotADirectoryError:\n",
    "        print(\"Invalid directory {path}\")\n",
    "    \n",
    "    return images\n",
    "\n",
    "path = \"E:\\\\PROJECTS\\\\Personal Projects\\\\AI-Powered-Contract-Auditing-System\\\\Datasets\"\n",
    "image_files = readImagesFromFolder(path)\n",
    "print(len(image_files))\n",
    "\n",
    "\n",
    "for img in image_files:\n",
    "    print(\"----------------------------------------------------------------------------\")\n",
    "    img = getGrayScale(img)\n",
    "    img = thresholding(img)\n",
    "    img = removeNoise(img)\n",
    "    print(imgToTxt(img))\n",
    "\n"
   ]
  },
  {
   "cell_type": "markdown",
   "metadata": {},
   "source": [
    "#### Text Localisation and Detection"
   ]
  },
  {
   "cell_type": "code",
   "execution_count": 6,
   "metadata": {},
   "outputs": [
    {
     "name": "stdout",
     "output_type": "stream",
     "text": [
      "dict_keys(['level', 'page_num', 'block_num', 'par_num', 'line_num', 'word_num', 'left', 'top', 'width', 'height', 'conf', 'text'])\n"
     ]
    }
   ],
   "source": [
    "rgb = cv2.cvtColor(img, cv2.COLOR_BGR2RGB)\n",
    "results = pytesseract.image_to_data(rgb, output_type=Output.DICT)\n",
    "\n",
    "print(results.keys())\n",
    "\n",
    "\n",
    "\n",
    "n_boxes = len(results['text'])\n",
    "for i in range(n_boxes):\n",
    "    if int(results['conf'][i]) > 60:  # You can adjust the confidence threshold\n",
    "        (x, y, w, h) = (results['left'][i], results['top'][i], results['width'][i], results['height'][i])\n",
    "        text = results['text'][i]\n",
    "        cv2.rectangle(img, (x, y), (x + w, y + h), (0, 255, 0), 2)  # Draw a green rectangle\n",
    "        cv2.putText(img, text, (x, y - 10), cv2.FONT_HERSHEY_SIMPLEX, 0.5, (0, 255, 0), 2)\n",
    "\n",
    "#cv2.imshow(\"Text Detection\", img)\n",
    "#cv2.waitKey(0)\n",
    "#cv2.destroyAllWindows()"
   ]
  }
 ],
 "metadata": {
  "kernelspec": {
   "display_name": "Python 3",
   "language": "python",
   "name": "python3"
  },
  "language_info": {
   "codemirror_mode": {
    "name": "ipython",
    "version": 3
   },
   "file_extension": ".py",
   "mimetype": "text/x-python",
   "name": "python",
   "nbconvert_exporter": "python",
   "pygments_lexer": "ipython3",
   "version": "3.11.4"
  }
 },
 "nbformat": 4,
 "nbformat_minor": 2
}
